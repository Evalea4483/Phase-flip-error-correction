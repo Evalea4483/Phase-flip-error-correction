{
 "cells": [
  {
   "cell_type": "code",
   "execution_count": 1,
   "metadata": {},
   "outputs": [],
   "source": [
    "import random\n",
    "import matplotlib.pyplot as plt\n",
    "import numpy as np\n",
    "import cirq\n",
    "\n",
    "def binary_labels(num_qubits):\n",
    "    return [bin(x)[2:].zfill(num_qubits) for x in range(2**num_qubits)]\n",
    "plt.rcParams.update({'font.size':8})"
   ]
  },
  {
   "cell_type": "markdown",
   "metadata": {},
   "source": [
    "3-qubit phase flip error correcting code.\n",
    "\n",
    "1. Encode\n",
    "  - initialize a circuit with 3 qubits and 1 classical bit\n",
    "  - Entangle the state of q0 with other qubits\n",
    "  - Put all qubits in equal superpositions to correct $|+\\rangle$ and $|-\\rangle$ states from switching instead of $|0\\rangle$ and $|1\\rangle$.\n",
    "2. Sending Over Noisy Channel\n",
    "3. Error Detection\n",
    "4. Error Correction\n",
    "5. Decoding"
   ]
  },
  {
   "cell_type": "markdown",
   "metadata": {},
   "source": [
    "<h1> Part 1 - Encode</h1>"
   ]
  },
  {
   "cell_type": "code",
   "execution_count": 2,
   "metadata": {},
   "outputs": [],
   "source": [
    "qubits = cirq.NamedQubit.range(3, prefix=\"q\")\n",
    "encode_circuit = cirq.Circuit()"
   ]
  },
  {
   "cell_type": "code",
   "execution_count": 3,
   "metadata": {},
   "outputs": [
    {
     "data": {
      "text/html": [
       "<pre style=\"overflow: auto; white-space: pre;\">q0: ───@───@───\n",
       "       │   │\n",
       "q1: ───X───┼───\n",
       "           │\n",
       "q2: ───────X───</pre>"
      ],
      "text/plain": [
       "q0: ───@───@───\n",
       "       │   │\n",
       "q1: ───X───┼───\n",
       "           │\n",
       "q2: ───────X───"
      ]
     },
     "execution_count": 3,
     "metadata": {},
     "output_type": "execute_result"
    }
   ],
   "source": [
    "encode_circuit.append(cirq.CNOT(qubits[0], qubits[1]))\n",
    "encode_circuit.append(cirq.CNOT(qubits[0], qubits[2]))\n",
    "\n",
    "encode_circuit"
   ]
  },
  {
   "cell_type": "code",
   "execution_count": 4,
   "metadata": {},
   "outputs": [
    {
     "data": {
      "text/html": [
       "<pre style=\"overflow: auto; white-space: pre;\">           ┌──┐\n",
       "q0: ───@────@─────H───\n",
       "       │    │\n",
       "q1: ───X────┼H────────\n",
       "            │\n",
       "q2: ────────X─────H───\n",
       "           └──┘</pre>"
      ],
      "text/plain": [
       "           ┌──┐\n",
       "q0: ───@────@─────H───\n",
       "       │    │\n",
       "q1: ───X────┼H────────\n",
       "            │\n",
       "q2: ────────X─────H───\n",
       "           └──┘"
      ]
     },
     "execution_count": 4,
     "metadata": {},
     "output_type": "execute_result"
    }
   ],
   "source": [
    "encode_circuit.append(cirq.H.on_each(qubits))\n",
    "\n",
    "encode_circuit"
   ]
  },
  {
   "cell_type": "markdown",
   "metadata": {},
   "source": [
    "<h1>Part 2 - Send over noisy channel</h1>"
   ]
  },
  {
   "cell_type": "code",
   "execution_count": 5,
   "metadata": {},
   "outputs": [
    {
     "data": {
      "text/html": [
       "<pre style=\"overflow: auto; white-space: pre;\">q0: ───Z───</pre>"
      ],
      "text/plain": [
       "q0: ───Z───"
      ]
     },
     "execution_count": 5,
     "metadata": {},
     "output_type": "execute_result"
    }
   ],
   "source": [
    "noisy_channel_circuit = cirq.Circuit()\n",
    "\n",
    "noisy_channel_circuit.append(cirq.Z(qubits[0]))\n",
    "\n",
    "noisy_channel_circuit"
   ]
  },
  {
   "cell_type": "markdown",
   "metadata": {},
   "source": [
    "<h1>Part 3 - Error Detection</h1>"
   ]
  },
  {
   "cell_type": "code",
   "execution_count": 6,
   "metadata": {},
   "outputs": [
    {
     "data": {
      "text/html": [
       "<pre style=\"overflow: auto; white-space: pre;\">q0: ───H───@───@───\n",
       "           │   │\n",
       "q1: ───H───X───┼───\n",
       "               │\n",
       "q2: ───H───────X───</pre>"
      ],
      "text/plain": [
       "q0: ───H───@───@───\n",
       "           │   │\n",
       "q1: ───H───X───┼───\n",
       "               │\n",
       "q2: ───H───────X───"
      ]
     },
     "execution_count": 6,
     "metadata": {},
     "output_type": "execute_result"
    }
   ],
   "source": [
    "detection_circuit = cirq.Circuit()\n",
    "\n",
    "detection_circuit.append(cirq.H.on_each(qubits))\n",
    "\n",
    "detection_circuit.append(cirq.CNOT(qubits[0], qubits[1]))\n",
    "detection_circuit.append(cirq.CNOT(qubits[0], qubits[2]))\n",
    "\n",
    "detection_circuit"
   ]
  },
  {
   "cell_type": "markdown",
   "metadata": {},
   "source": [
    "<h1>Part 4 - Error Correction</h1>"
   ]
  },
  {
   "cell_type": "code",
   "execution_count": 7,
   "metadata": {},
   "outputs": [
    {
     "data": {
      "text/html": [
       "<pre style=\"overflow: auto; white-space: pre;\">q0: ───X───\n",
       "       │\n",
       "q1: ───@───\n",
       "       │\n",
       "q2: ───@───</pre>"
      ],
      "text/plain": [
       "q0: ───X───\n",
       "       │\n",
       "q1: ───@───\n",
       "       │\n",
       "q2: ───@───"
      ]
     },
     "execution_count": 7,
     "metadata": {},
     "output_type": "execute_result"
    }
   ],
   "source": [
    "correction_circuit = cirq.Circuit()\n",
    "\n",
    "correction_circuit.append(cirq.CCNOT(qubits[2], qubits[1], qubits[0]))\n",
    "\n",
    "correction_circuit"
   ]
  },
  {
   "cell_type": "markdown",
   "metadata": {},
   "source": [
    "<h1>Part 5 - Decoding</h1>"
   ]
  },
  {
   "cell_type": "code",
   "execution_count": 8,
   "metadata": {},
   "outputs": [
    {
     "data": {
      "text/html": [
       "<pre style=\"overflow: auto; white-space: pre;\">q0: ───M───</pre>"
      ],
      "text/plain": [
       "q0: ───M───"
      ]
     },
     "execution_count": 8,
     "metadata": {},
     "output_type": "execute_result"
    }
   ],
   "source": [
    "decode_circuit = cirq.Circuit()\n",
    "\n",
    "decode_circuit.append(cirq.measure(qubits[0]))\n",
    "\n",
    "decode_circuit"
   ]
  },
  {
   "cell_type": "markdown",
   "metadata": {},
   "source": [
    "<h2>Now, let's simulate the results of performing each of these steps by adding the circuits together and simulating 100 times (to ensure our error correction code really works).</h2>"
   ]
  },
  {
   "cell_type": "code",
   "execution_count": 9,
   "metadata": {},
   "outputs": [
    {
     "data": {
      "image/png": "[encoded data removed]",
      "text/plain": [
       "<Figure size 640x480 with 1 Axes>"
      ]
     },
     "metadata": {},
     "output_type": "display_data"
    }
   ],
   "source": [
    "phaseflip_circuit = encode_circuit + noisy_channel_circuit + detection_circuit + correction_circuit + decode_circuit\n",
    "\n",
    "sim = cirq.Simulator()\n",
    "\n",
    "result = sim.run(phaseflip_circuit, repetitions = 100)\n",
    "\n",
    "\n",
    "hist = cirq.plot_state_histogram(result, plt.subplot(), title = 'Qubit States', xlabel = 'States', ylabel = 'Occurrences', tick_label=binary_labels(1))\n",
    "\n",
    "plt.show()"
   ]
  },
  {
   "cell_type": "markdown",
   "metadata": {},
   "source": [
    "Using the code from above so that the logical qubit is in the $|+\\rangle$ state instead of the $|0\\rangle$ state."
   ]
  },
  {
   "cell_type": "code",
   "execution_count": 10,
   "metadata": {},
   "outputs": [
    {
     "data": {
      "image/png": "[encoded data removed]",
      "text/plain": [
       "<Figure size 640x480 with 1 Axes>"
      ]
     },
     "metadata": {},
     "output_type": "display_data"
    }
   ],
   "source": [
    "# PREPARATION\n",
    "'''\n",
    "In using real quantum computers, you would expect noise while applying gates,\n",
    "so in order to protect that quantum information/circuit, you apply the H gate\n",
    "after the encode_circuit part, during the noisy_channel_circuit so that any errors\n",
    "during this part may be corrected. In simulation, it's okay to apply this first,\n",
    "however with real quantum computers, this would not be best practice as the circuit\n",
    "would be subject to noise.\n",
    "'''\n",
    "prepare_circuit = cirq.Circuit()\n",
    "prepare_circuit.append(cirq.H(qubits[0]))\n",
    "\n",
    "# SIMULATING\n",
    "phaseflip_circuit = prepare_circuit + encode_circuit + noisy_channel_circuit + detection_circuit + correction_circuit + decode_circuit\n",
    "\n",
    "sim = cirq.Simulator()\n",
    "result = sim.run(phaseflip_circuit, repetitions = 100)\n",
    "\n",
    "hist = cirq.plot_state_histogram(result, plt.subplot(), title = 'Qubit States', xlabel = 'States', ylabel = 'Occurrences', tick_label=binary_labels(1))\n",
    "\n",
    "plt.show()"
   ]
  },
  {
   "cell_type": "markdown",
   "metadata": {},
   "source": [
    "Adding a gate to $q_0$ right before decoding to rotate it's state into the computational basis so that we can be sure if the error has been corrected. "
   ]
  },
  {
   "cell_type": "code",
   "execution_count": 11,
   "metadata": {},
   "outputs": [
    {
     "data": {
      "image/png": "[encoded data removed]",
      "text/plain": [
       "<Figure size 640x480 with 1 Axes>"
      ]
     },
     "metadata": {},
     "output_type": "display_data"
    }
   ],
   "source": [
    "prepare_circuit = cirq.Circuit()\n",
    "prepare_circuit.append(cirq.H(qubits[0]))\n",
    "\n",
    "'''\n",
    "We add an H gate after the correction circuit because we assume that after the\n",
    "correction circuit, the 0 state will be in the |+> state because the H gate will make\n",
    "the |+> into a 0 state. so now 100% of the time, we should recieve the the 0 state.\n",
    "'''\n",
    "# SIMULATING\n",
    "phaseflip_circuit = prepare_circuit + encode_circuit + noisy_channel_circuit + detection_circuit + correction_circuit + cirq.H(qubits[0])+ decode_circuit\n",
    "\n",
    "sim = cirq.Simulator()\n",
    "result = sim.run(phaseflip_circuit, repetitions = 100)\n",
    "\n",
    "hist = cirq.plot_state_histogram(result, plt.subplot(), title = 'Qubit States', xlabel = 'States', ylabel = 'Occurrences', tick_label=binary_labels(1))\n",
    "\n",
    "plt.show()"
   ]
  },
  {
   "cell_type": "markdown",
   "metadata": {},
   "source": [
    "\n",
    "Modified the code so that the logical qubit is in the $|0\\rangle$ state, but there is a phase flip error on *both* $q_1$ and $q_2$."
   ]
  },
  {
   "cell_type": "code",
   "execution_count": 12,
   "metadata": {},
   "outputs": [
    {
     "data": {
      "image/png": "[encoded data removed]",
      "text/plain": [
       "<Figure size 640x480 with 1 Axes>"
      ]
     },
     "metadata": {},
     "output_type": "display_data"
    }
   ],
   "source": [
    "noisy_channel_circuit = cirq.Circuit()\n",
    "noisy_channel_circuit.append(cirq.Z(qubits[1]))\n",
    "noisy_channel_circuit.append(cirq.Z(qubits[2]))\n",
    "\n",
    "'''\n",
    "If we see that the answer ends up being 1 (or that all physical qubits incur errors\n",
    "causing the logical qubit to be the wrong output) we can then conclude that the circuit\n",
    "or QEC in this case is wrong, and it's back to the drawing board.\n",
    "'''\n",
    "# SIMULATING\n",
    "phaseflip_circuit = encode_circuit + noisy_channel_circuit + detection_circuit + correction_circuit + decode_circuit\n",
    "\n",
    "sim = cirq.Simulator()\n",
    "result = sim.run(phaseflip_circuit, repetitions = 100)\n",
    "\n",
    "hist = cirq.plot_state_histogram(result, plt.subplot(), title = 'Qubit States', xlabel = 'States', ylabel = 'Occurrences', tick_label=binary_labels(1))\n",
    "\n",
    "plt.show()"
   ]
  }
 ],
 "metadata": {
  "kernelspec": {
   "display_name": "Python 3",
   "language": "python",
   "name": "python3"
  },
  "language_info": {
   "codemirror_mode": {
    "name": "ipython",
    "version": 3
   },
   "file_extension": ".py",
   "mimetype": "text/x-python",
   "name": "python",
   "nbconvert_exporter": "python",
   "pygments_lexer": "ipython3",
   "version": "3.12.2"
  }
 },
 "nbformat": 4,
 "nbformat_minor": 2
}
